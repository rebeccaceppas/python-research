{
 "cells": [
  {
   "cell_type": "code",
   "execution_count": 69,
   "metadata": {},
   "outputs": [],
   "source": [
    "import pandas as pd\n",
    "import numpy as np\n",
    "birddata = pd.read_csv(\"https://courses.edx.org/asset-v1:HarvardX+PH526x+2T2019+type@asset+block@bird_tracking.csv\", index_col=0)\n",
    "birddata.head()\n",
    "import matplotlib.pyplot as plt"
   ]
  },
  {
   "cell_type": "markdown",
   "metadata": {},
   "source": [
    "# Exercise 1\n",
    "\n",
    "In Exercise 1, we will group the dataframe by birdname and then find the average speed_2d for each bird. pandas makes it easy to perform basic operations on groups within a dataframe without needing to loop through each value in the dataframe.\n",
    "\n",
    "### Instructions\n",
    "Fill in the code to find the mean altitudes of each bird using the pre-loaded birddata dataframe.\n",
    "\n",
    "Here is the code:"
   ]
  },
  {
   "cell_type": "code",
   "execution_count": 70,
   "metadata": {},
   "outputs": [
    {
     "data": {
      "text/plain": [
       "bird_name\n",
       "Eric     2.300545\n",
       "Nico     2.908726\n",
       "Sanne    2.450434\n",
       "Name: speed_2d, dtype: float64"
      ]
     },
     "execution_count": 70,
     "metadata": {},
     "output_type": "execute_result"
    }
   ],
   "source": [
    "# First, use `groupby()` to group the data by \"bird_name\".\n",
    "grouped_birds = birddata.groupby(by='bird_name', axis=0)\n",
    "\n",
    "\n",
    "# Now calculate the mean of `speed_2d` using the `mean()` function.\n",
    "s = grouped_birds.speed_2d.mean()\n",
    "\n",
    "# Find the mean `altitude` for each bird.\n",
    "a = grouped_birds.altitude.mean()\n",
    "\n",
    "s"
   ]
  },
  {
   "cell_type": "markdown",
   "metadata": {},
   "source": [
    "# Exercise 2\n",
    "\n",
    "In Exercise 2, we will group the flight times by date and calculate the mean altitude within that day.\n",
    "\n",
    "### Instructions\n",
    "Convert birddata.date_time to the pd.datetime format, extract the date, and store it as birddata[\"date\"].\n",
    "\n",
    "Fill in the code below to find the mean altitudes for each day:"
   ]
  },
  {
   "cell_type": "code",
   "execution_count": 71,
   "metadata": {},
   "outputs": [],
   "source": [
    "import datetime\n",
    "\n",
    "# Convert birddata.date_time to the `pd.datetime` format.\n",
    "birddata['date_time'] = pd.to_datetime(birddata['date_time'][:-3], format='%Y-%m-%d %H:%M:%S')\n",
    "\n",
    "# Create a new column of day of observation\n",
    "\n",
    "birddata['date'] = birddata['date_time'].dt.date\n",
    "\n",
    "# Use `groupby()` to group the data by date.\n",
    "grouped_bydates = birddata.groupby(by='date', axis=0)\n",
    "\n",
    "# Find the mean `altitude` for each date.\n",
    "mean_altitudes_perday = grouped_bydates.altitude.mean()"
   ]
  },
  {
   "cell_type": "code",
   "execution_count": 72,
   "metadata": {},
   "outputs": [
    {
     "data": {
      "text/plain": [
       "date\n",
       "2013-08-25     93.162602\n",
       "2013-08-26     75.995951\n",
       "2013-08-27     84.591093\n",
       "2013-08-28    111.210526\n",
       "2013-08-29    177.421488\n",
       "2013-08-30     92.520161\n",
       "2013-08-31    160.975904\n",
       "2013-09-01     84.753086\n",
       "2013-09-02     88.128514\n",
       "2013-09-03     93.975709\n",
       "2013-09-04     90.717213\n",
       "2013-09-05     87.264000\n",
       "2013-09-06     89.020492\n",
       "2013-09-07    103.412955\n",
       "2013-09-08     76.566265\n",
       "2013-09-09     81.483471\n",
       "2013-09-10     90.618852\n",
       "2013-09-11     77.222672\n",
       "2013-09-12     75.646091\n",
       "2013-09-13     66.615079\n",
       "Name: altitude, dtype: float64"
      ]
     },
     "execution_count": 72,
     "metadata": {},
     "output_type": "execute_result"
    }
   ],
   "source": [
    "mean_altitudes_perday[10:30]"
   ]
  },
  {
   "cell_type": "markdown",
   "metadata": {},
   "source": [
    "# Exercise 3\n",
    "\n",
    "In Exercise 3, we will group the flight times by both bird and date, and calculate the mean altitude for each.\n",
    "\n",
    "### Instructions\n",
    "Note that birddata already contains the date column. To find the average speed for each bird and day, create a new grouped dataframe called grouped_birdday that groups the data by both bird_name and date.\n",
    "\n",
    "Fill in the following code for this exercise:"
   ]
  },
  {
   "cell_type": "code",
   "execution_count": 73,
   "metadata": {},
   "outputs": [],
   "source": [
    "# Use `groupby()` to group the data by bird and date.\n",
    "grouped_birdday = birddata.groupby(['bird_name', 'date'])\n",
    "\n",
    "# Find the mean `altitude` for each bird and date.\n",
    "mean_altitudes_perday = grouped_birdday.altitude.mean()"
   ]
  },
  {
   "cell_type": "code",
   "execution_count": 74,
   "metadata": {},
   "outputs": [
    {
     "data": {
      "text/plain": [
       "bird_name  date      \n",
       "Eric       2013-08-15     74.988095\n",
       "           2013-08-16    127.773810\n",
       "           2013-08-17    125.890244\n",
       "           2013-08-18    121.353659\n",
       "           2013-08-19    134.928571\n",
       "                            ...    \n",
       "Sanne      2014-04-26     17.116667\n",
       "           2014-04-27     17.391892\n",
       "           2014-04-28     58.876712\n",
       "           2014-04-29     30.530120\n",
       "           2014-04-30      4.115942\n",
       "Name: altitude, Length: 770, dtype: float64"
      ]
     },
     "execution_count": 74,
     "metadata": {},
     "output_type": "execute_result"
    }
   ],
   "source": [
    "mean_altitudes_perday"
   ]
  },
  {
   "cell_type": "markdown",
   "metadata": {},
   "source": [
    "# Exercise 4\n",
    "\n",
    "In Exercise 4, we will find the average speed for each bird and day.\n",
    "\n",
    "### Instructions\n",
    "Store the average speeds for each bird and day as three pandas Series objects, one for each bird, then use the plotting code provided to plot the average speeds for each bird.\n",
    "\n",
    "Here is the code to moldify for this exercise:"
   ]
  },
  {
   "cell_type": "code",
   "execution_count": 85,
   "metadata": {},
   "outputs": [
    {
     "data": {
      "text/plain": [
       "date\n",
       "2014-03-23     2.400540\n",
       "2014-03-24     3.338499\n",
       "2014-03-25     2.348788\n",
       "2014-03-26     2.421999\n",
       "2014-03-27     2.944375\n",
       "2014-03-28     2.833248\n",
       "2014-03-29     3.550028\n",
       "2014-03-30     2.176832\n",
       "2014-03-31     2.824631\n",
       "2014-04-01     3.163723\n",
       "2014-04-02     2.861222\n",
       "2014-04-03     3.212099\n",
       "2014-04-04     2.832465\n",
       "2014-04-05     3.283842\n",
       "2014-04-06     2.824700\n",
       "2014-04-07     3.455989\n",
       "2014-04-08     2.995421\n",
       "2014-04-09     3.780186\n",
       "2014-04-10     3.703409\n",
       "2014-04-11     2.829536\n",
       "2014-04-12     3.341111\n",
       "2014-04-13     3.878121\n",
       "2014-04-14     3.882314\n",
       "2014-04-15     4.437659\n",
       "2014-04-16     3.366451\n",
       "2014-04-17     3.713230\n",
       "2014-04-18     3.798646\n",
       "2014-04-19     5.061530\n",
       "2014-04-20    10.196981\n",
       "2014-04-21     7.861385\n",
       "Name: speed_2d, dtype: float64"
      ]
     },
     "execution_count": 85,
     "metadata": {},
     "output_type": "execute_result"
    }
   ],
   "source": [
    "import matplotlib.pyplot as plt\n",
    "\n",
    "eric_daily_speed  = grouped_birdday.speed_2d.mean()['Eric']\n",
    "sanne_daily_speed = grouped_birdday.speed_2d.mean()['Sanne']\n",
    "nico_daily_speed  = grouped_birdday.speed_2d.mean()['Nico']\n",
    "\n",
    "\n",
    "\n",
    "nico_daily_speed[220:250]"
   ]
  },
  {
   "cell_type": "code",
   "execution_count": null,
   "metadata": {},
   "outputs": [],
   "source": []
  }
 ],
 "metadata": {
  "kernelspec": {
   "display_name": "Python 3",
   "language": "python",
   "name": "python3"
  },
  "language_info": {
   "codemirror_mode": {
    "name": "ipython",
    "version": 3
   },
   "file_extension": ".py",
   "mimetype": "text/x-python",
   "name": "python",
   "nbconvert_exporter": "python",
   "pygments_lexer": "ipython3",
   "version": "3.7.4"
  }
 },
 "nbformat": 4,
 "nbformat_minor": 4
}
